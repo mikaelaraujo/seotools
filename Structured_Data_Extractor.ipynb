{
  "nbformat": 4,
  "nbformat_minor": 0,
  "metadata": {
    "colab": {
      "provenance": [],
      "authorship_tag": "ABX9TyOOlooXLhBX6ZCbb16NxAU0",
      "include_colab_link": true
    },
    "kernelspec": {
      "name": "python3",
      "display_name": "Python 3"
    },
    "language_info": {
      "name": "python"
    }
  },
  "cells": [
    {
      "cell_type": "markdown",
      "metadata": {
        "id": "view-in-github",
        "colab_type": "text"
      },
      "source": [
        "<a href=\"https://colab.research.google.com/github/mikaelaraujo/seotools/blob/main/Structured_Data_Extractor.ipynb\" target=\"_parent\"><img src=\"https://colab.research.google.com/assets/colab-badge.svg\" alt=\"Open In Colab\"/></a>"
      ]
    },
    {
      "cell_type": "code",
      "source": [
        "# Autor: Mikael Araújo\n",
        "# Versão: 1.0\n",
        "# Programa capaz de extrair metadados de um conjunto de dados estruturados  \"do tipo: <script type=\"application/ld+json\">\" de uma URL.\n",
        "# Os labels a serem extraídos são os seguintes: headline, articleBody e keywords.\n",
        "# O código também trabalha maneiras de resolver problemas causados pelo status code 403."
      ],
      "metadata": {
        "id": "WzJEcrTPxOyy"
      },
      "execution_count": null,
      "outputs": []
    },
    {
      "cell_type": "code",
      "execution_count": null,
      "metadata": {
        "colab": {
          "base_uri": "https://localhost:8080/"
        },
        "id": "2oROSAugwpvL",
        "outputId": "9e8e45d8-5f7a-442b-cb83-7aad67ffae20"
      },
      "outputs": [
        {
          "output_type": "stream",
          "name": "stdout",
          "text": [
            "{'headline': 'What’s Behind Bitcoin Price Drop? Political Chaos or US Fed Meeting?', 'articleBody': \"Bitcoin price dropped below $60,000 to a low of $58,112 today. It has made the crypto community puzzled as the 50 bps Fed rate cuts speculation sparked rallies in stocks, crypto, and gold recently. Moreover, the political chaos surrounding the 2024 US presidential election continues to impact markets, alongside assassination attempts on Donald Trump.\\r\\nBitcoin Price Fell Amid Assassination Attempt on Donald Trump\\r\\nRepublican presidential candidate Donald Trump faced another assassination attempt near his Florida golf course on Sunday. Multiple shots were fired in his vicinity and Secret Service is still investigating the incident.\\r\\n\\r\\nPolitical events involving presidential candidates Kamala Harris or Donald Trump can influence market sentiment. Bitcoin price jumped after an assassination attempt on Trump in Pennsylvania on July 13 as it boosted his chances against President Joe Biden. Currently, Trump and Harris are almost tied in the presidential race.\\r\\n\\r\\nWhile Trump is safe after the latest assassination attempt, related cryptocurrencies such as MAGA, TRUMP, and TREMP crashed.\\r\\nFed Rate Cuts Expectation in FOMC Meeting\\r\\nThe US Fed will announce monetary policy on September 18, which can bring a dynamic shift in stocks and crypto markets' direction. Jerome Powell's speech after the two-day FOMC meeting of US Fed officials will provide further cues to traders on the market in the next quarter.\\r\\n\\r\\nA 50 bps Fed rate cut will drive massive activity in the markets, increasing volatility. According to CME FedWatch tool, there’s a 61% probability of a 50 bps rate cut and 39% odds of a 25 bps in after the FOMC meeting. Also, the data indicates a total of 125 bps Fed rate cuts this year. This will trigger a massive Bitcoin price rally.\\r\\n\\r\\nJim Reid, a market strategist at Deutsche Bank, said in a report that the magnitude of the Fed's first rate cut will affect the overall rate cut this year. If the Fed cuts by 25 basis points on Wednesday, Deutsche Bank expects the Fed's forecast to show a total rate cut of 75 basis points this year.\\r\\n\\r\\nAs the Fed approaches its first rate cut of this round, market tensions are increasing and amplifying the impact of any unexpected macro data. Moreover, the uncertainty still exists related to Bank Of Japan's rate hike as economists expect a rate hike in October.\\r\\nHow Bitcoin Price Will Move In the Next Few Days?\\r\\nBitcoin price fell to a 24-hour low of $58,112 as traders sold BTC when the price fell below 50-SMA. According to 10X Research, Bitcoin needs to break above the triangle resistance line to rally further.\\r\\n\\r\\n\\r\\n\\r\\n&nbsp;\\r\\n\\r\\nMoreover, Bitcoin fell sharply from the 0.618 Fib retracement level to the 0.5 Fib retracement level in the daily timeframe. The price is expected to move sideways near the $59,000 level until the US Fed meeting.\", 'keywords': 'Bitcoin (BTC) Price, donald trump, US Fed meeting, US Federal Reserve'}\n"
          ]
        }
      ],
      "source": [
        "import requests\n",
        "import json\n",
        "from bs4 import BeautifulSoup\n",
        "\n",
        "def extract_data_from_url(url):\n",
        "  \"\"\"\n",
        "  Extrai os dados 'headline', 'articleBody' e 'keywords' de um conjunto de dados estruturados\n",
        "  (do tipo: <script type=\"application/ld+json\">) de uma URL.\n",
        "\n",
        "  Args:\n",
        "    url: A URL da página web.\n",
        "\n",
        "  Returns:\n",
        "    Um dicionário contendo os dados extraídos ou None se não forem encontrados.\n",
        "  \"\"\"\n",
        "  try:\n",
        "    headers = {\n",
        "        'User-Agent': 'Mozilla/5.0 (Windows NT 10.0; Win64; x64) AppleWebKit/537.36 (KHTML, like Gecko) Chrome/58.0.3029.110 Safari/537.3'\n",
        "    }\n",
        "    response = requests.get(url, headers=headers)\n",
        "    response.raise_for_status()  # Levanta uma exceção para códigos de status diferentes de 200\n",
        "\n",
        "    soup = BeautifulSoup(response.content, 'html.parser')\n",
        "    script_tags = soup.find_all('script', type=\"application/ld+json\")\n",
        "\n",
        "    for script_tag in script_tags:\n",
        "      try:\n",
        "        json_data = json.loads(script_tag.string)\n",
        "        if isinstance(json_data, list):\n",
        "          for item in json_data:\n",
        "            if 'headline' in item and 'articleBody' in item and 'keywords' in item:\n",
        "              return {\n",
        "                  'headline': item.get('headline'),\n",
        "                  'articleBody': item.get('articleBody'),\n",
        "                  'keywords': item.get('keywords')\n",
        "              }\n",
        "        elif 'headline' in json_data and 'articleBody' in json_data and 'keywords' in json_data:\n",
        "          return {\n",
        "              'headline': json_data.get('headline'),\n",
        "              'articleBody': json_data.get('articleBody'),\n",
        "              'keywords': json_data.get('keywords')\n",
        "          }\n",
        "      except json.JSONDecodeError:\n",
        "        continue  # Ignora erros de decodificação JSON\n",
        "\n",
        "    return None  # Se nenhum dado for encontrado\n",
        "\n",
        "  except requests.exceptions.RequestException as e:\n",
        "    print(f\"Erro ao acessar a URL: {e}\")\n",
        "    return None\n",
        "\n",
        "# Exemplo de uso\n",
        "url = \"https://coingape.com/whats-behind-bitcoin-price-drop-political-chaos-or-us-fed-meeting/\"\n",
        "data = extract_data_from_url(url)\n",
        "\n",
        "if data:\n",
        "  print(data)\n",
        "else:\n",
        "  print(\"Dados não encontrados.\")\n"
      ]
    },
    {
      "cell_type": "code",
      "source": [
        "# prompt: Crie um trecho de código que exiba os labels extraídos separadamente\n",
        "\n",
        "if data:\n",
        "  print(\"Headline:\", data['headline'])\n",
        "  print(\"\\n\")\n",
        "  print(\"Keywords:\", data['keywords'])\n",
        "  print(\"\\n\")\n",
        "  print(\"Article Body:\\n\", data['articleBody'])\n",
        "\n",
        "else:\n",
        "  print(\"Dados não encontrados.\")"
      ],
      "metadata": {
        "colab": {
          "base_uri": "https://localhost:8080/"
        },
        "id": "CGq5RBm5xewp",
        "outputId": "3b265f82-9203-45e6-c59b-07e633f45d9a"
      },
      "execution_count": null,
      "outputs": [
        {
          "output_type": "stream",
          "name": "stdout",
          "text": [
            "Headline: What’s Behind Bitcoin Price Drop? Political Chaos or US Fed Meeting?\n",
            "\n",
            "\n",
            "Keywords: Bitcoin (BTC) Price, donald trump, US Fed meeting, US Federal Reserve\n",
            "\n",
            "\n",
            "Article Body:\n",
            " Bitcoin price dropped below $60,000 to a low of $58,112 today. It has made the crypto community puzzled as the 50 bps Fed rate cuts speculation sparked rallies in stocks, crypto, and gold recently. Moreover, the political chaos surrounding the 2024 US presidential election continues to impact markets, alongside assassination attempts on Donald Trump.\r\n",
            "Bitcoin Price Fell Amid Assassination Attempt on Donald Trump\r\n",
            "Republican presidential candidate Donald Trump faced another assassination attempt near his Florida golf course on Sunday. Multiple shots were fired in his vicinity and Secret Service is still investigating the incident.\r\n",
            "\r\n",
            "Political events involving presidential candidates Kamala Harris or Donald Trump can influence market sentiment. Bitcoin price jumped after an assassination attempt on Trump in Pennsylvania on July 13 as it boosted his chances against President Joe Biden. Currently, Trump and Harris are almost tied in the presidential race.\r\n",
            "\r\n",
            "While Trump is safe after the latest assassination attempt, related cryptocurrencies such as MAGA, TRUMP, and TREMP crashed.\r\n",
            "Fed Rate Cuts Expectation in FOMC Meeting\r\n",
            "The US Fed will announce monetary policy on September 18, which can bring a dynamic shift in stocks and crypto markets' direction. Jerome Powell's speech after the two-day FOMC meeting of US Fed officials will provide further cues to traders on the market in the next quarter.\r\n",
            "\r\n",
            "A 50 bps Fed rate cut will drive massive activity in the markets, increasing volatility. According to CME FedWatch tool, there’s a 61% probability of a 50 bps rate cut and 39% odds of a 25 bps in after the FOMC meeting. Also, the data indicates a total of 125 bps Fed rate cuts this year. This will trigger a massive Bitcoin price rally.\r\n",
            "\r\n",
            "Jim Reid, a market strategist at Deutsche Bank, said in a report that the magnitude of the Fed's first rate cut will affect the overall rate cut this year. If the Fed cuts by 25 basis points on Wednesday, Deutsche Bank expects the Fed's forecast to show a total rate cut of 75 basis points this year.\r\n",
            "\r\n",
            "As the Fed approaches its first rate cut of this round, market tensions are increasing and amplifying the impact of any unexpected macro data. Moreover, the uncertainty still exists related to Bank Of Japan's rate hike as economists expect a rate hike in October.\r\n",
            "How Bitcoin Price Will Move In the Next Few Days?\r\n",
            "Bitcoin price fell to a 24-hour low of $58,112 as traders sold BTC when the price fell below 50-SMA. According to 10X Research, Bitcoin needs to break above the triangle resistance line to rally further.\r\n",
            "\r\n",
            "\r\n",
            "\r\n",
            "&nbsp;\r\n",
            "\r\n",
            "Moreover, Bitcoin fell sharply from the 0.618 Fib retracement level to the 0.5 Fib retracement level in the daily timeframe. The price is expected to move sideways near the $59,000 level until the US Fed meeting.\n"
          ]
        }
      ]
    }
  ]
}