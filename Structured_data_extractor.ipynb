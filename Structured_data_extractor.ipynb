{
  "nbformat": 4,
  "nbformat_minor": 0,
  "metadata": {
    "colab": {
      "provenance": [],
      "name": "Structured-data-extractor.ipynb",
      "authorship_tag": "ABX9TyMhAaEq4EfXAusop4e4z+z6",
      "include_colab_link": true
    },
    "kernelspec": {
      "name": "python3",
      "display_name": "Python 3"
    },
    "language_info": {
      "name": "python"
    }
  },
  "cells": [
    {
      "cell_type": "markdown",
      "metadata": {
        "id": "view-in-github",
        "colab_type": "text"
      },
      "source": [
        "<a href=\"https://colab.research.google.com/github/mikaelaraujo/seotools/blob/main/Structured_data_extractor.ipynb\" target=\"_parent\"><img src=\"https://colab.research.google.com/assets/colab-badge.svg\" alt=\"Open In Colab\"/></a>"
      ]
    },
    {
      "cell_type": "code",
      "source": [
        "# Autor: Mikael Araújo\n",
        "# Versão: 1.0\n",
        "# Programa capaz de extrair metadados de um conjunto de dados estruturados  \"do tipo: <script type=\"application/ld+json\">\" de uma URL.\n",
        "# Os labels a serem extraídos são os seguintes: headline, articleBody e keywords.\n",
        "# O código também trabalha maneiras de resolver problemas causados pelo status code 403."
      ],
      "metadata": {
        "id": "WzJEcrTPxOyy"
      },
      "execution_count": null,
      "outputs": []
    },
    {
      "cell_type": "code",
      "source": [
        "import requests\n",
        "import json\n",
        "from bs4 import BeautifulSoup"
      ],
      "metadata": {
        "id": "-N0H-92OPAx2"
      },
      "execution_count": null,
      "outputs": []
    },
    {
      "cell_type": "code",
      "source": [
        "def extract_data_from_url(url):\n",
        "  \"\"\"\n",
        "  Extrai os dados 'headline', 'articleBody', 'keywords' e 'image_url' de um conjunto de dados estruturados\n",
        "  (do tipo: <script type=\"application/ld+json\">) de uma URL.\n",
        "\n",
        "  Args:\n",
        "    url: A URL da página web.\n",
        "\n",
        "  Returns:\n",
        "    Um dicionário contendo os dados extraídos ou None se não forem encontrados.\n",
        "  \"\"\"\n",
        "  try:\n",
        "    headers = {\n",
        "        'User-Agent': 'Mozilla/5.0 (Windows NT 10.0; Win64; x64) AppleWebKit/537.36 (KHTML, like Gecko) Chrome/58.0.3029.110 Safari/537.3'\n",
        "    }\n",
        "    response = requests.get(url, headers=headers)\n",
        "    response.raise_for_status()  # Levanta uma exceção para códigos de status diferentes de 200\n",
        "\n",
        "    soup = BeautifulSoup(response.content, 'html.parser')\n",
        "    script_tags = soup.find_all('script', type=\"application/ld+json\")\n",
        "\n",
        "    for script_tag in script_tags:\n",
        "      try:\n",
        "        json_data = json.loads(script_tag.string)\n",
        "        if isinstance(json_data, list):\n",
        "          for item in json_data:\n",
        "            if 'headline' in item and 'articleBody' in item and 'keywords' in item and 'image' in item:\n",
        "              return {\n",
        "                  'headline': item.get('headline'),\n",
        "                  'articleBody': item.get('articleBody'),\n",
        "                  'keywords': item.get('keywords'),\n",
        "                  'image_url': item.get('image', {}).get('url')\n",
        "              }\n",
        "        elif 'headline' in json_data and 'articleBody' in json_data and 'keywords' in json_data and 'image' in json_data:\n",
        "          return {\n",
        "              'headline': json_data.get('headline'),\n",
        "              'articleBody': json_data.get('articleBody'),\n",
        "              'keywords': json_data.get('keywords'),\n",
        "              'image_url': json_data.get('image', {}).get('url')\n",
        "          }\n",
        "      except json.JSONDecodeError:\n",
        "        continue  # Ignora erros de decodificação JSON\n",
        "\n",
        "    return None  # Se nenhum dado for encontrado\n",
        "\n",
        "  except requests.exceptions.RequestException as e:\n",
        "    print(f\"Erro ao acessar a URL: {e}\")\n",
        "    return None"
      ],
      "metadata": {
        "id": "0ucZBEFQQNZS"
      },
      "execution_count": null,
      "outputs": []
    },
    {
      "cell_type": "code",
      "source": [
        "# Exemplo de uso\n",
        "url = \"https://coingape.com/heres-why-us-spot-ethereum-etf-see-largest-79m-in-outflows-since-july/\"\n",
        "data = extract_data_from_url(url)\n",
        "\n",
        "if data:\n",
        "  print(data)\n",
        "else:\n",
        "  print(\"Dados não encontrados.\")"
      ],
      "metadata": {
        "colab": {
          "base_uri": "https://localhost:8080/"
        },
        "id": "-81UlZP-PLWV",
        "outputId": "3347cbbe-20c9-471f-a8bf-57600baa1376"
      },
      "execution_count": null,
      "outputs": [
        {
          "output_type": "stream",
          "name": "stdout",
          "text": [
            "{'headline': 'Here&#8217;s Why US Spot Ethereum ETFs See Largest $79M in Outflows Since July?', 'articleBody': 'Unlike the spot Bitcoin ETFs in the United States seeing renewed demand, the spot Ethereum ETFs have seen waning interest in recent times. On Monday, these Ether ETFs saw the largest single outflows of $79 million since the launch in July. This shows that the Ethereum investment products have failed to garner enough investment participation and institutional attention.\\r\\nGrayscale Leads Spot Ethereum ETF Outflows\\r\\nO Monday, the total outflows from the spot Ethereum ETF stood at a staggering $79.3 million, the highest since July this year. Grayscale\\'s ETHE played a major spoilsport yesterday with more than $80.8 million in outflows. Of the other market players, only Bitwise Ether ETF (ETHW) saw negligent inflows of $1.3 million. All other Ether ETFs saw zero inflows yesterday.\\r\\n\\r\\nInflows into US spot Ethereum ETFs have significantly dried down in recent times. In the past eight trading sessions, five of the eight listed Ether ETFs have seen zero inflows. Even big market players like BlackRock aren\\'t able to cross $10 million in inflows on a daily basis. On the other hand, the total outflows since launch have surged to $686 million, per the Farside Investors data.\\r\\n\\r\\nThis development is despite the Ethereum price showing a strong recovery recently. On the weekly chart, the ETH price is trading 15% up at $2,653.08 levels as of press time. However, Ethereum has continued to lose ground against Bitcoin in recent weeks. The ETH/BTC ratio has dropped to its lowest level since April 2021.\\r\\nWhat\\'s Behind the Waning ETH Interest\\r\\nUnlike Bitcoin, the world\\'s second-largest crypto Ethereum doesn\\'t enjoy the status quo of being the \"digital gold\". Thus, institutional liquidity first enters into BTC before it goes into ETH. Furthermore, the outflows from spot Ethereum ETF suggest that institutional players are clearly moving money out of this altcoin.\\r\\n\\r\\nOn the other hand, the recent ETH selloff by the Ethereum Foundation and Vitalik Buterin has dampened the sentiment among investors. This year so far, the Ethereum Foundation has sold more than 3,500 ETH.\\r\\n\\r\\nOn the other hand, the Ethereum exchange supply has been growing steadily at more than 21.46 million coins. this has further heightened the risk of potential selling moving ahead.', 'keywords': 'ETH price, ETHE, Ethereum (ETH), Grayscale Ethereum ETF, Spot Ethereum ETF', 'image_url': 'https://coingape.com/wp-content/uploads/2024/01/Spot-Ethereum-ETF_1.jpg'}\n"
          ]
        }
      ]
    },
    {
      "cell_type": "code",
      "source": [
        "# prompt: Crie um trecho de código que exiba os labels extraídos separadamente\n",
        "\n",
        "if data:\n",
        "  print(\"Original article URL:\\n\", url)\n",
        "  print(\"\\n\")\n",
        "  print(\"Headline: \\n\", data['headline'])\n",
        "  print(\"\\n\")\n",
        "  print(\"Keywords: \\n\", data['keywords'])\n",
        "  print(\"\\n\")\n",
        "  print(\"Article Body:\\n\\n\", data['articleBody'], \"\\n\")\n",
        "  print(\"Image URL: \\n\", data['image_url'])\n",
        "\n",
        "else:\n",
        "  print(\"Dados não encontrados.\")"
      ],
      "metadata": {
        "colab": {
          "base_uri": "https://localhost:8080/"
        },
        "id": "CGq5RBm5xewp",
        "outputId": "5962ad22-3085-441d-c665-21bf8dd7ad1f"
      },
      "execution_count": null,
      "outputs": [
        {
          "output_type": "stream",
          "name": "stdout",
          "text": [
            "Original article URL:\n",
            " https://coingape.com/heres-why-us-spot-ethereum-etf-see-largest-79m-in-outflows-since-july/\n",
            "\n",
            "\n",
            "Headline: \n",
            " Here&#8217;s Why US Spot Ethereum ETFs See Largest $79M in Outflows Since July?\n",
            "\n",
            "\n",
            "Keywords: \n",
            " ETH price, ETHE, Ethereum (ETH), Grayscale Ethereum ETF, Spot Ethereum ETF\n",
            "\n",
            "\n",
            "Article Body:\n",
            "\n",
            " Unlike the spot Bitcoin ETFs in the United States seeing renewed demand, the spot Ethereum ETFs have seen waning interest in recent times. On Monday, these Ether ETFs saw the largest single outflows of $79 million since the launch in July. This shows that the Ethereum investment products have failed to garner enough investment participation and institutional attention.\r\n",
            "Grayscale Leads Spot Ethereum ETF Outflows\r\n",
            "O Monday, the total outflows from the spot Ethereum ETF stood at a staggering $79.3 million, the highest since July this year. Grayscale's ETHE played a major spoilsport yesterday with more than $80.8 million in outflows. Of the other market players, only Bitwise Ether ETF (ETHW) saw negligent inflows of $1.3 million. All other Ether ETFs saw zero inflows yesterday.\r\n",
            "\r\n",
            "Inflows into US spot Ethereum ETFs have significantly dried down in recent times. In the past eight trading sessions, five of the eight listed Ether ETFs have seen zero inflows. Even big market players like BlackRock aren't able to cross $10 million in inflows on a daily basis. On the other hand, the total outflows since launch have surged to $686 million, per the Farside Investors data.\r\n",
            "\r\n",
            "This development is despite the Ethereum price showing a strong recovery recently. On the weekly chart, the ETH price is trading 15% up at $2,653.08 levels as of press time. However, Ethereum has continued to lose ground against Bitcoin in recent weeks. The ETH/BTC ratio has dropped to its lowest level since April 2021.\r\n",
            "What's Behind the Waning ETH Interest\r\n",
            "Unlike Bitcoin, the world's second-largest crypto Ethereum doesn't enjoy the status quo of being the \"digital gold\". Thus, institutional liquidity first enters into BTC before it goes into ETH. Furthermore, the outflows from spot Ethereum ETF suggest that institutional players are clearly moving money out of this altcoin.\r\n",
            "\r\n",
            "On the other hand, the recent ETH selloff by the Ethereum Foundation and Vitalik Buterin has dampened the sentiment among investors. This year so far, the Ethereum Foundation has sold more than 3,500 ETH.\r\n",
            "\r\n",
            "On the other hand, the Ethereum exchange supply has been growing steadily at more than 21.46 million coins. this has further heightened the risk of potential selling moving ahead. \n",
            "\n",
            "Image URL: \n",
            " https://coingape.com/wp-content/uploads/2024/01/Spot-Ethereum-ETF_1.jpg\n"
          ]
        }
      ]
    }
  ]
}